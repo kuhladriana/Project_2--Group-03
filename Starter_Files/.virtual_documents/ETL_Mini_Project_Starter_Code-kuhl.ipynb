# Import dependencies
import pandas as pd
import numpy as np
from datetime import datetime as dt
pd.set_option('max_colwidth', 400)





# Read the data into a Pandas DataFrame
crowdfunding_info_df = pd.read_excel('Resources/crowdfunding.xlsx')
crowdfunding_info_df.head()


# Get a brief summary of the crowdfunding_info DataFrame.
crowdfunding_info_df.info()





# Get the crowdfunding_info_df columns.
columns = crowdfunding_info_df.columns
print(columns)



# Assign the category and subcategory values to category and subcategory columns.
crowdfunding_info_df[["category", "subcategory"]] = crowdfunding_info_df["category & sub-category"].str.split("/", expand=True)
crowdfunding_info_df


# Get the unique categories and subcategories in separate lists.
categories = crowdfunding_info_df["category"].unique()
subcategories = crowdfunding_info_df["subcategory"].unique()
print(categories)
print(subcategories)


# Get the number of distinct values in the categories and subcategories lists.
print(len(categories))
print(len(subcategories))


# Create numpy arrays from 1-9 for the categories and 1-24 for the subcategories.
category_id =np.arange(1, 10)
subcategory_id =np.arange(1, 25)
print(category_id)
print(subcategory_id)


# Use a list comprehension to add "cat" to each category_id. 

cat_ids = [f"cat{cat_id}" for cat_id in category_id]
print(cat_ids)

# Use a list comprehension to add "subcat" to each subcategory_id.    
scat_ids = [f"subcat{subcat_id}" for subcat_id in subcategory_id]
print(scat_ids)






# Create a category DataFrame with the category_id array as the category_id and categories list as the category name.
category_df = pd.DataFrame({
    "category_id": cat_ids,
    "category": categories
})
# Create a category DataFrame with the subcategory_id array as the subcategory_id and subcategories list as the subcategory name. 
subcategory_df = pd.DataFrame({
    "subcategory_id": scat_ids,
    "subcategory": subcategories
})


category_df


subcategory_df


# Export categories_df and subcategories_df as CSV files.
category_df.to_csv("Resources/category.csv", index=False)

subcategory_df.to_csv("Resources/subcategory.csv", index=False)





# Create a copy of the crowdfunding_info_df DataFrame name campaign_df. 
campaign_df = crowdfunding_info_df.copy()
campaign_df.head()


# Rename the blurb, launched_at, and deadline columns.
campaign_df.rename(columns={"blurb": "description"}, inplace=True)
campaign_df.rename(columns={"launched_at": "launch_date"}, inplace=True)
campaign_df.rename(columns={"deadline": "end_date"}, inplace=True)


# Convert the goal and pledged columns to a `float` data type.
campaign_df["goal"] = campaign_df["goal"].astype(float)
campaign_df["pledged"] = campaign_df["pledged"].astype(float)


# Check the datatypes
print(campaign_df.dtypes)


# Format the launch_date and end_date columns to datetime format
campaign_df['launch_date'] = pd.to_datetime(campaign_df['launch_date'], unit='s', utc=True)
campaign_df['end_date'] = pd.to_datetime(campaign_df['end_date'], unit='s', utc=True)
campaign_df


# Merge the campaign_df with the category_df on the "category" column and 
campaign_merged_df = pd.merge(campaign_df, category_df, on=['category'], how='outer')

# the subcategory_df on the "subcategory" column.
campaign_final_merged_df = pd.merge(campaign_merged_df, subcategory_df, on=['subcategory'], how='outer')
campaign_final_merged_df


# Drop unwanted columns
campaign_cleaned = campaign_final_merged_df.drop(['staff_pick', 'spotlight', 'category & sub-category', 'category', 'subcategory'], axis=1)
campaign_cleaned


# Export the DataFrame as a CSV file. 
campaign_cleaned.to_csv("Resources/campaign.csv", index=False)





# Read the data into a Pandas DataFrame. Use the `header=2` parameter when reading in the data.
contact_info_df = pd.read_excel('Resources/contacts.xlsx', header=2)
contact_info_df.head()








contact_info_df.info()


# Remove the first row 
contact_info_df = contact_info_df.drop(0).reset_index(drop=True)

# Check the DataFrame
contact_info_df.columns = ['contact_info']
contact_info_df.head()


# Iterate through the contact_info_df and convert each row to a dictionary.
import json
dict_values = []

for index, row in contact_info_df.iterrows():
    # Convert the JSON string in 'contact_info' column to a dictionary
    contact_dict = json.loads(row['contact_info'])
    
    # Append the dictionary to the list
    dict_values.append(contact_dict)

# Print out the list of values for each row.
print(dict_values)


# Create a contact_info DataFrame and add each list of values, i.e., each row 
# to the 'contact_id', 'name', 'email' columns.
contact_df = pd.DataFrame(dict_values)
contact_df


# Check the datatypes.
contact_df.info()


# Create a "first_name" and "last_name" column with the first and last names from the "name" column. 
contact_df[['first_name', 'last_name']] = contact_df['name'].str.split(' ', expand=True)

# Drop the contact_name column
contact_df = contact_df.drop(columns=['name'])
contact_df


# Reorder the columns
contacts_df_clean = contact_df[['contact_id', 'first_name', 'last_name', 'email']]
contacts_df_clean


# Check the datatypes one more time before exporting as CSV file.
contacts_df_clean.info()


# Export the DataFrame as a CSV file. 
contacts_df_clean.to_csv("Resources/contacts.csv", encoding='utf8', index=False)





contact_info_df_copy = contact_info_df.copy()
contact_info_df_copy.head()


# Extract the four-digit contact ID number.
p = r'"contact_id": (\d{4})'
contact_info_df["contact_id"] = contact_info_df['contact_info'].str.extract(p)
contact_info_df.head(10)


# Check the datatypes.
contact_info_df.info()


# Convert the "contact_id" column to an int64 data type.
contact_info_df["contact_id"] = contact_info_df["contact_id"].astype(int)
contact_info_df.info()


# Extract the name of the contact and add it to a new column.
p = r'"name": "(\w+\s\w+)"'
contact_info_df["name"] = contact_info_df['contact_info'].str.extract(p)
contact_info_df.head(10)


# Extract the email from the contacts and add the values to a new column.
#p = r'"email": "(\w+\.\w+@\w+\.\w+)"'
p= r'"email": "(\S+@\S+)"'   #Thanks ChatGPT
contact_info_df["email"] = contact_info_df['contact_info'].str.extract(p)
contact_info_df.head(10)


# Create a copy of the contact_info_df with the 'contact_id', 'name', 'email' columns.
contact_info_df_copy = contact_info_df.copy()
contact_info_df_copy = contact_info_df_copy[["contact_id", "name", "email"]]
contact_info_df_copy.head(10)


# Create a "first"name" and "last_name" column with the first and last names from the "name" column. 
contact_info_df_copy[["first_name", "last_name"]]=contact_info_df_copy["name"].str.split(" ", expand=True)
contact_info_df_copy.head(10)

# Drop the contact_name column
contact_info_df_copy=contact_info_df_copy.drop(columns=["name"])
contact_info_df_copy.head(10)



# Reorder the columns
contact_info_df_clean= contact_info_df_copy[["contact_id", "first_name", "last_name", "email"]]
contact_info_df_clean


# Check the datatypes one more time before exporting as CSV file.
contact_info_df_clean.info()


# Export the DataFrame as a CSV file. 
contact_info_df_clean.to_csv("Resources/contacts_Regex.csv", encoding='utf8', index=False)



